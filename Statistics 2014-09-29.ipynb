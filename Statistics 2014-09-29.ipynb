{
 "metadata": {
  "name": "Statistics 2014-09-29"
 },
 "nbformat": 3,
 "nbformat_minor": 0,
 "worksheets": [
  {
   "cells": [
    {
     "cell_type": "code",
     "collapsed": true,
     "input": "__author__ = 'Javier Garcia-Bernardo 2014'\n\n# Math\nimport numpy as np\n\n# Stats\nimport scipy\n\n# Plot\nimport pylab as plt\nimport matplotlib\n\n# Multiple comparisons\nfrom statsmodels.stats.multicomp import pairwise_tukeyhsd\n\n# Kernel Estimation\nfrom sklearn.grid_search import GridSearchCV\nfrom sklearn.neighbors import KernelDensity\n\n# Bootstrap\nimport scikits.bootstrap as bootstrap\n\n%matplotlib inline\n\ndef customaxis(ax, c_left='k', c_bottom='k', c_right='none', c_top='none', lw=2, size=20, pad=8):\n    '''\n    From stackoverflow. User gcalmettes \n    '''\n    for c_spine, spine in zip([c_left, c_bottom, c_right, c_top],\n                              ['left', 'bottom', 'right', 'top']):\n        if c_spine != 'none':\n            ax.spines[spine].set_color(c_spine)\n            ax.spines[spine].set_linewidth(lw)\n        else:\n            ax.spines[spine].set_color('none')\n    if (c_bottom == 'none') & (c_top == 'none'): # no bottom and no top\n        ax.xaxis.set_ticks_position('none')\n    elif (c_bottom != 'none') & (c_top != 'none'): # bottom and top\n        ax.tick_params(axis='x', direction='out', width=lw, length=7,\n                      color=c_bottom, labelsize=size, pad=pad)\n    elif (c_bottom != 'none') & (c_top == 'none'): # bottom but not top\n        ax.xaxis.set_ticks_position('bottom')\n        ax.tick_params(axis='x', direction='out', width=lw, length=7,\n                       color=c_bottom, labelsize=size, pad=pad)\n    elif (c_bottom == 'none') & (c_top != 'none'): # no bottom but top\n        ax.xaxis.set_ticks_position('top')\n        ax.tick_params(axis='x', direction='out', width=lw, length=7,\n                       color=c_top, labelsize=size, pad=pad)\n    if (c_left == 'none') & (c_right == 'none'): # no left and no right\n        ax.yaxis.set_ticks_position('none')\n    elif (c_left != 'none') & (c_right != 'none'): # left and right\n        ax.tick_params(axis='y', direction='out', width=lw, length=7,\n                       color=c_left, labelsize=size, pad=pad)\n    elif (c_left != 'none') & (c_right == 'none'): # left but not right\n        ax.yaxis.set_ticks_position('left')\n        ax.tick_params(axis='y', direction='out', width=lw, length=7,\n                       color=c_left, labelsize=size, pad=pad)\n    elif (c_left == 'none') & (c_right != 'none'): # no left but right\n        ax.yaxis.set_ticks_position('right')\n        ax.tick_params(axis='y', direction='out', width=lw, length=7,\n                       color=c_right, labelsize=size, pad=pad)",
     "language": "python",
     "metadata": {},
     "outputs": [],
     "prompt_number": 39
    },
    {
     "cell_type": "heading",
     "level": 1,
     "metadata": {},
     "source": "Interaction between parameters (Observed vs Expected). "
    },
    {
     "cell_type": "heading",
     "level": 3,
     "metadata": {},
     "source": "Chi Square"
    },
    {
     "cell_type": "raw",
     "metadata": {},
     "source": "About 25 percent of the U.S. scientific workforce consists of foreign-born scientists, in both industry and academia.\n\nWe have 3 Americans and 4 Internationals. So the obvious question is: Does Mary hate Americans?"
    },
    {
     "cell_type": "code",
     "collapsed": false,
     "input": "print(\"p-val = \", scipy.stats.chisquare(f_obs = [3.,4.], f_exp = [7.*0.75,7.*0.25])[1])",
     "language": "python",
     "metadata": {},
     "outputs": [
      {
       "output_type": "stream",
       "stream": "stdout",
       "text": "('p-val = ', 0.049534613435626491)\n"
      }
     ],
     "prompt_number": 40
    },
    {
     "cell_type": "raw",
     "metadata": {},
     "source": "YES! But wait... This test is invalid when the observed or expected frequencies in each category are too small. A typical rule is that all of the observed and expected frequencies should be at least 5."
    },
    {
     "cell_type": "heading",
     "level": 3,
     "metadata": {},
     "source": "Fisher's exact test"
    },
    {
     "cell_type": "code",
     "collapsed": false,
     "input": "print(\"p-val Exact test =\", scipy.stats.fisher_exact([[3, 75000], [4, 25000]])[1])",
     "language": "python",
     "metadata": {},
     "outputs": [
      {
       "output_type": "stream",
       "stream": "stdout",
       "text": "('p-val Exact test =', 0.070570483471531401)\n"
      }
     ],
     "prompt_number": 41
    },
    {
     "cell_type": "raw",
     "metadata": {},
     "source": "Math says Mary doesn't hate Americans... until Jess leaves:"
    },
    {
     "cell_type": "code",
     "collapsed": false,
     "input": "print(\"p-val Exact test =\", scipy.stats.fisher_exact([[2, 75000], [4, 25000]])[1])",
     "language": "python",
     "metadata": {},
     "outputs": [
      {
       "output_type": "stream",
       "stream": "stdout",
       "text": "('p-val Exact test =', 0.03760622581012793)\n"
      }
     ],
     "prompt_number": 42
    },
    {
     "cell_type": "heading",
     "level": 1,
     "metadata": {},
     "source": "Compare 2 independent samples"
    },
    {
     "cell_type": "raw",
     "metadata": {},
     "source": "Imagine we want to compare if there are difference in GFP expression between two populations of cells."
    },
    {
     "cell_type": "code",
     "collapsed": false,
     "input": "def median_test(samples1, samples2):\n  \"\"\"Adapted from https://gist.github.com/wanderview/8285920\"\"\"\n  median = np.median(samples1 + samples2)\n  samples1 = np.asarray(samples1)\n  samples2 = np.asarray(samples2)\n  below1, above1 = np.sum(samples1<=median),np.sum(samples1>median)\n  below2, above2 = np.sum(samples2<=median),np.sum(samples2>median)\n    \n  below_exp = (below1 + below2) / 2\n  above_exp = (above1 + above2) / 2\n\n  result = scipy.stats.chisquare(\n    [below1, above1, below2, above2],\n    f_exp=[below_exp, above_exp, below_exp, above_exp]\n  )\n\n  return result[1]",
     "language": "python",
     "metadata": {},
     "outputs": [],
     "prompt_number": 43
    },
    {
     "cell_type": "code",
     "collapsed": false,
     "input": "    x = [np.random.randn() for _ in range(200)]\n    y = [np.random.randn()+0.6 for _ in range(200)]\n    ax = plt.subplot(1,1,1)\n    ax.hist(x,bins=np.linspace(np.min(x+y),np.max(x+y),25),alpha=0.3,histtype='stepfilled')\n    ax.hist(y,bins=np.linspace(np.min(x+y),np.max(x+y),25),alpha=0.3,histtype='stepfilled')\n    ax.set_xlabel('Value',size=20)\n    ax.set_ylabel('Freq',size=20)\n    customaxis(ax, c_left='k', c_bottom='k', c_right='none', c_top='none', lw=2, size=20, pad=8)\n    plt.show()\n    ",
     "language": "python",
     "metadata": {},
     "outputs": [
      {
       "metadata": {},
       "output_type": "display_data",
       "png": "[encoded data removed]",
       "text": "<matplotlib.figure.Figure at 0x7f60e0eb4d90>"
      }
     ],
     "prompt_number": 44
    },
    {
     "cell_type": "raw",
     "metadata": {},
     "source": "Check Variance"
    },
    {
     "cell_type": "code",
     "collapsed": false,
     "input": "print(\"pval Equal-Variance = \",scipy.stats.levene(x,y)[1])",
     "language": "python",
     "metadata": {},
     "outputs": [
      {
       "output_type": "stream",
       "stream": "stdout",
       "text": "('pval Equal-Variance = ', 0.34631004235050145)\n"
      }
     ],
     "prompt_number": 45
    },
    {
     "cell_type": "heading",
     "level": 3,
     "metadata": {},
     "source": "Equal variance. USE: Mann-Whitneyu test"
    },
    {
     "cell_type": "raw",
     "metadata": {},
     "source": "Use only when the number of observation in each sample is > 20 and you have 2 independent samples of ranks. Mann-Whitney U is significant if the u-obtained is LESS THAN or equal to the critical value of U."
    },
    {
     "cell_type": "code",
     "collapsed": false,
     "input": "print(\"Mann-Whitney U test.\", scipy.stats.mannwhitneyu(x,y,use_continuity=True)[1]*2)\nprint(\"T-test. Only if normality\", scipy.stats.ttest_ind(x,y)[1])\nprint(\"Median test\", median_test(x,y))",
     "language": "python",
     "metadata": {},
     "outputs": [
      {
       "output_type": "stream",
       "stream": "stdout",
       "text": "('Mann-Whitney U test.', 3.337747132801931e-09)\n('T-test. Only if normality', 1.7455489694871835e-10)\n('Median test', 1.5440498291101365e-05)\n"
      }
     ],
     "prompt_number": "*"
    },
    {
     "cell_type": "code",
     "collapsed": false,
     "input": "    x = [np.random.randn() for _ in range(200)]\n    y = [np.random.randn()*2+0.2 for _ in range(200)]\n    ax = plt.subplot(1,1,1)\n    ax.hist(x,bins=np.linspace(np.min(x+y),np.max(x+y),25),alpha=0.3,histtype='stepfilled')\n    ax.hist(y,bins=np.linspace(np.min(x+y),np.max(x+y),25),alpha=0.3,histtype='stepfilled')\n    ax.set_xlabel('Value',size=20)\n    ax.set_ylabel('Freq',size=20)\n    customaxis(ax, c_left='k', c_bottom='k', c_right='none', c_top='none', lw=2, size=20, pad=8)\n    plt.show()",
     "language": "python",
     "metadata": {},
     "outputs": [],
     "prompt_number": "*"
    },
    {
     "cell_type": "heading",
     "level": 3,
     "metadata": {},
     "source": "Non-Equal Variance and Normality. USE: T-test"
    },
    {
     "cell_type": "raw",
     "metadata": {},
     "source": "Check Normality\nThe Shapiro-Wilk test tests the null hypothesis that the data was drawn from a normal distribution."
    },
    {
     "cell_type": "code",
     "collapsed": false,
     "input": "print(scipy.stats.levene(x,y)[1])\nprint(scipy.stats.shapiro(x))\nprint(scipy.stats.shapiro(y))",
     "language": "python",
     "metadata": {},
     "outputs": [],
     "prompt_number": "*"
    },
    {
     "cell_type": "code",
     "collapsed": false,
     "input": "print(\"Mann-Whitney U test. NOP\", scipy.stats.mannwhitneyu(x,y)[1]*2)\nprint(\"Unpaired T-test\", scipy.stats.ttest_ind(x,y,equal_var=False)[1])\nprint(\"Median test\", median_test(x,y))",
     "language": "python",
     "metadata": {},
     "outputs": [],
     "prompt_number": "*"
    },
    {
     "cell_type": "heading",
     "level": 3,
     "metadata": {},
     "source": "Non-Equal variance and Normality. USE: Median test"
    },
    {
     "cell_type": "code",
     "collapsed": false,
     "input": "    x = [np.random.lognormal(1,1.3) for _ in range(200)]\n    y = [np.random.lognormal(1.5,1) for _ in range(200)]\n    \n    ax = plt.subplot(1,1,1)\n    ax.hist(x,bins=np.linspace(np.min(x+y),np.max(x+y),25),alpha=0.3,histtype='stepfilled')\n    ax.hist(y,bins=np.linspace(np.min(x+y),np.max(x+y),25),alpha=0.3,histtype='stepfilled')\n    ax.set_xlabel('Value',size=20)\n    ax.set_ylabel('Freq',size=20)\n    customaxis(ax, c_left='k', c_bottom='k', c_right='none', c_top='none', lw=2, size=20, pad=8)\n    plt.show()",
     "language": "python",
     "metadata": {},
     "outputs": [],
     "prompt_number": "*"
    },
    {
     "cell_type": "code",
     "collapsed": false,
     "input": "print('Mann-Whitney U test test. NO', scipy.stats.mannwhitneyu(x,y)[1]*2)\nprint('T-test. NO', scipy.stats.ttest_ind(x,y)[1])\nprint('Median test', median_test(x,y))",
     "language": "python",
     "metadata": {},
     "outputs": [],
     "prompt_number": "*"
    },
    {
     "cell_type": "heading",
     "level": 1,
     "metadata": {},
     "source": "Compare 2 paired samples"
    },
    {
     "cell_type": "raw",
     "metadata": {},
     "source": "Imagine we want to check if there are difference in GFP expression after we add salicylate in non-growing cells."
    },
    {
     "cell_type": "heading",
     "level": 3,
     "metadata": {},
     "source": "USE: Wilcoxon signed-rank test"
    },
    {
     "cell_type": "code",
     "collapsed": false,
     "input": "    x = [np.random.randn() for _ in range(200)]\n    y = [np.random.randn()+0.2 for _ in range(200)]\n    ax = plt.subplot(1,1,1)\n    ax.hist(x,bins=np.linspace(np.min(x+y),np.max(x+y),25),alpha=0.3,histtype='stepfilled')\n    ax.hist(y,bins=np.linspace(np.min(x+y),np.max(x+y),25),alpha=0.3,histtype='stepfilled')\n    ax.set_xlabel('Value',size=20)\n    ax.set_ylabel('Freq',size=20)\n    customaxis(ax, c_left='k', c_bottom='k', c_right='none', c_top='none', lw=2, size=20, pad=8)\n    plt.show()",
     "language": "python",
     "metadata": {},
     "outputs": [],
     "prompt_number": "*"
    },
    {
     "cell_type": "raw",
     "metadata": {},
     "source": "The Wilcoxon signed-rank test tests the null hypothesis that two related paired samples come from the same distribution"
    },
    {
     "cell_type": "code",
     "collapsed": false,
     "input": "print(\"Wilcoxon Signed-Rank test. Only if equal variance\", scipy.stats.wilcoxon(x,y)[1])\nprint(\"Mann-Whitney U test NO\",scipy.stats.mannwhitneyu(x,y)[1]*2)\nprint(\"Paired t-test. Only if normality and equal variance\",scipy.stats.ttest_rel(x,y)[1])\nprint(\"Unpaired t-test NO\",scipy.stats.ttest_ind(x,y)[1])",
     "language": "python",
     "metadata": {},
     "outputs": [],
     "prompt_number": "*"
    },
    {
     "cell_type": "heading",
     "level": 1,
     "metadata": {},
     "source": "Compare >2 independent samples. Same mean?"
    },
    {
     "cell_type": "markdown",
     "metadata": {},
     "source": "Imagine we want to check if there are difference in GFP expression in three different versions of a promoter."
    },
    {
     "cell_type": "heading",
     "level": 3,
     "metadata": {},
     "source": "ANOVA (Parametric) or Kruskal-Wallis (Non parametric)"
    },
    {
     "cell_type": "markdown",
     "metadata": {},
     "source": "Analysis of variance (ANOVA) is a collection of statistical models used to analyze the differences between group means and their associated procedures (such as \"variation\" among and between groups). T-test\n\n\nThe Kruskal\u2013Wallis one-way analysis of variance by ranks (named after William Kruskal and W. Allen Wallis) is a non-parametric method for testing whether samples originate from the same distribution. Mann-Whitney-U "
    },
    {
     "cell_type": "code",
     "collapsed": false,
     "input": "    x = [np.random.randn() for _ in range(200)]\n    y = [np.random.randn()+0.2 for _ in range(200)]\n    z = [np.random.randn()+0.4 for _ in range(200)]\n    ax = plt.subplot(1,1,1)\n    ax.hist(x,bins=np.linspace(np.min(x+y+z),np.max(x+y+z),25),alpha=0.3,histtype='stepfilled')\n    ax.hist(y,bins=np.linspace(np.min(x+y+z),np.max(x+y+z),25),alpha=0.3,histtype='stepfilled')\n    ax.hist(z,bins=np.linspace(np.min(x+y+z),np.max(x+y+z),25),alpha=0.3,histtype='stepfilled')\n    ax.set_xlabel('Value',size=20)\n    ax.set_ylabel('Freq',size=20)\n    customaxis(ax, c_left='k', c_bottom='k', c_right='none', c_top='none', lw=2, size=20, pad=8)\n    plt.show()",
     "language": "python",
     "metadata": {},
     "outputs": [],
     "prompt_number": "*"
    },
    {
     "cell_type": "code",
     "collapsed": false,
     "input": "f_val, p_val = scipy.stats.f_oneway(x, y, z)    \nprint \"One-way ANOVA P =\", p_val  \nf_val, p_val = scipy.stats.mstats.kruskalwallis(x,y,z)\nprint \"One-way Kruskal Wallis P =\", p_val  ",
     "language": "python",
     "metadata": {},
     "outputs": [],
     "prompt_number": "*"
    },
    {
     "cell_type": "code",
     "collapsed": false,
     "input": "    np.random.seed(50)\n    x = [np.random.randn() for _ in range(200)]\n    y = [np.random.randn()+0.1 for _ in range(200)]\n    z = [np.random.randn()+0.1 for _ in range(200)]\n    i = [np.random.randn()+0.1 for _ in range(200)]\n    j = [np.random.randn()+0.2 for _ in range(200)]\n    ax = plt.subplot(1,1,1)\n    ax.hist(x,bins=np.linspace(np.min(x+y+z+i+j),np.max(x+y+z+i+j),25),alpha=0.3,histtype='stepfilled')\n    ax.hist(y,bins=np.linspace(np.min(x+y+z+i+j),np.max(x+y+z+i+j),25),alpha=0.3,histtype='stepfilled')\n    ax.hist(z,bins=np.linspace(np.min(x+y+z+i+j),np.max(x+y+z+i+j),25),alpha=0.3,histtype='stepfilled')\n    ax.hist(i,bins=np.linspace(np.min(x+y+z+i+j),np.max(x+y+z+i+j),25),alpha=0.3,histtype='stepfilled')\n    ax.hist(j,bins=np.linspace(np.min(x+y+z+i+j),np.max(x+y+z+i+j),25),alpha=0.3,histtype='stepfilled')\n    ax.set_xlabel('Value',size=20)\n    ax.set_ylabel('Freq',size=20)\n    customaxis(ax, c_left='k', c_bottom='k', c_right='none', c_top='none', lw=2, size=20, pad=8)\n    plt.show()",
     "language": "python",
     "metadata": {},
     "outputs": [],
     "prompt_number": "*"
    },
    {
     "cell_type": "code",
     "collapsed": false,
     "input": "f_val, p_val = scipy.stats.f_oneway(x, y, z,i,j)    \nprint \"One-way ANOVA P =\", p_val  \nf_val, p_val = scipy.stats.mstats.kruskalwallis(x,y,z,i,j)\nprint \"One-way Kruskal Wallis P =\", p_val  ",
     "language": "python",
     "metadata": {},
     "outputs": [],
     "prompt_number": "*"
    },
    {
     "cell_type": "raw",
     "metadata": {},
     "source": "Resistant to deviation (CLT)"
    },
    {
     "cell_type": "heading",
     "level": 2,
     "metadata": {},
     "source": "Compare >2 independent samples. Corrections"
    },
    {
     "cell_type": "code",
     "collapsed": false,
     "input": "ax = plt.subplot(1,1,1)\nax.plot(1-(1-0.05)** np.linspace(0,21,11),linewidth=3)\nax.set_xlabel('Prob of screwing up with the labels',size=20)\nax.set_ylabel('Number of plots I make',size=20)\nplt.title('Are line plots different than the histograms?',fontsize=14)\ncustomaxis(ax, c_left='k', c_bottom='k', c_right='none', c_top='none', lw=2, size=20, pad=8)\nplt.show()\n",
     "language": "python",
     "metadata": {},
     "outputs": [],
     "prompt_number": "*"
    },
    {
     "cell_type": "code",
     "collapsed": false,
     "input": "ax = plt.subplot(1,1,1)\nax.plot(1-(1-0.025)** np.linspace(0,100,100),linewidth=3)\nax.set_ylabel('Prob of screwing up',size=20)\nax.set_xlabel('Number of trials',size=20)\nplt.title('Be careful discarding experiments')\ncustomaxis(ax, c_left='k', c_bottom='k', c_right='none', c_top='none', lw=2, size=20, pad=8)\nplt.show()",
     "language": "python",
     "metadata": {},
     "outputs": [],
     "prompt_number": "*"
    },
    {
     "cell_type": "heading",
     "level": 3,
     "metadata": {},
     "source": "Bonferroni"
    },
    {
     "cell_type": "raw",
     "metadata": {},
     "source": "Corrects for the number of comparisons that you WILL make (Set p-value before the experiment. Don't cheat)"
    },
    {
     "cell_type": "code",
     "collapsed": false,
     "input": "%%latex\n$$1 - (1-\\alpha_{new})^{trials} = 0.05$$\n$$$$\nOur Friend Taylor\n$$1 - (1-trials \\cdot \\alpha_{new}) = 0.05$$\n$$$$\n$$trials \\cdot \\alpha_{new} = 0.05$$\n$$\\alpha_{new} = 0.05/trials$$",
     "language": "python",
     "metadata": {},
     "outputs": [],
     "prompt_number": "*"
    },
    {
     "cell_type": "code",
     "collapsed": false,
     "input": "print(\"p_min = 0.05/3 = %f\" %(0.05/10)) \nprint(scipy.stats.mannwhitneyu(x,y)[1]*2)\nprint(scipy.stats.mannwhitneyu(x,z)[1]*2)\nprint(scipy.stats.mannwhitneyu(x,i)[1]*2)\nprint(scipy.stats.mannwhitneyu(x,j)[1]*2)\nprint(scipy.stats.mannwhitneyu(y,z)[1]*2)\nprint(scipy.stats.mannwhitneyu(y,i)[1]*2)\nprint(scipy.stats.mannwhitneyu(y,j)[1]*2)\nprint(scipy.stats.mannwhitneyu(z,i)[1]*2)\nprint(scipy.stats.mannwhitneyu(z,j)[1]*2)\nprint(scipy.stats.mannwhitneyu(i,j)[1]*2)",
     "language": "python",
     "metadata": {},
     "outputs": [],
     "prompt_number": "*"
    },
    {
     "cell_type": "heading",
     "level": 3,
     "metadata": {},
     "source": "Dunnett's_test. Compare with control."
    },
    {
     "cell_type": "raw",
     "metadata": {},
     "source": "Still not implemented in Python. There are some non-official implementations in MATLAB though.\nAssumes normality\n\nYou can use bonferroni with p-min = 0.05/(n-1)"
    },
    {
     "cell_type": "heading",
     "level": 3,
     "metadata": {},
     "source": "Tukey HSD. Best"
    },
    {
     "cell_type": "raw",
     "metadata": {},
     "source": " Assumes normality"
    },
    {
     "cell_type": "code",
     "collapsed": false,
     "input": "from statsmodels.stats.multicomp import pairwise_tukeyhsd",
     "language": "python",
     "metadata": {},
     "outputs": [],
     "prompt_number": "*"
    },
    {
     "cell_type": "code",
     "collapsed": false,
     "input": "res2 = pairwise_tukeyhsd(np.asarray(x+y+z+i+j),['x']*200+['y']*200+['z']*200+['i']*200+['j']*200)\nprint res2",
     "language": "python",
     "metadata": {},
     "outputs": [],
     "prompt_number": "*"
    },
    {
     "cell_type": "code",
     "collapsed": false,
     "input": "res2.plot_simultaneous(comparison_name=None,xlabel='diffs',ylabel='grups')",
     "language": "python",
     "metadata": {},
     "outputs": [],
     "prompt_number": "*"
    },
    {
     "cell_type": "heading",
     "level": 1,
     "metadata": {},
     "source": "Compare >2 independent samples and >2 different parameters."
    },
    {
     "cell_type": "raw",
     "metadata": {},
     "source": "Imagine we want to check if there are difference in GFP expression for 3 different versions of a promoter in three different media. Create models, explaining the contribution of each factor.\n\nThe two-way ANOVA can not only determine the main effect of contributions of each independent variable but also identifies if there is a significant interaction effect between them.\n"
    },
    {
     "cell_type": "heading",
     "level": 1,
     "metadata": {},
     "source": "Fitting distributions"
    },
    {
     "cell_type": "heading",
     "level": 3,
     "metadata": {},
     "source": "Kernel estimation \n\nAdapted from: http://jakevdp.github.io/blog/2013/12/01/kernel-density-estimation/"
    },
    {
     "cell_type": "raw",
     "metadata": {},
     "source": "Smooth histograms."
    },
    {
     "cell_type": "code",
     "collapsed": false,
     "input": "from sklearn.grid_search import GridSearchCV\nfrom sklearn.neighbors import KernelDensity\n\n# The grid we'll use for plotting\nx_grid = np.linspace(-4.5, 3.5, 1000)\n\n# Draw points from a bimodal distribution in 1D\nnp.random.seed(0)\nx = np.concatenate([scipy.stats.distributions.norm(-1, 1.).rvs(400),\n                    scipy.stats.distributions.norm(1, 0.3).rvs(100)])\n\ngrid = GridSearchCV(KernelDensity(),\n                    {'bandwidth': np.linspace(0.1, 1.0, 30)},\n                    cv=20) # 20-fold cross-validation\ngrid.fit(x[:, None])\nprint grid.best_params_",
     "language": "python",
     "metadata": {},
     "outputs": [],
     "prompt_number": "*"
    },
    {
     "cell_type": "code",
     "collapsed": false,
     "input": "kde = grid.best_estimator_\npdf = np.exp(kde.score_samples(x_grid[:, None]))\n\nfig, ax = plt.subplots()\nax.plot(x_grid, pdf, linewidth=3, alpha=0.5, label='bw=%.2f' % kde.bandwidth)\nax.hist(x, 30, fc='gray', histtype='stepfilled', alpha=0.3, normed=True)\nax.set_xlim(-4.5, 3.5)\nax.set_xlabel('Value',fontsize=20)\nax.set_ylabel('Norm Freq',fontsize=20)\ncustomaxis(ax, c_left='k', c_bottom='k', c_right='none', c_top='none', lw=2, size=20, pad=8)",
     "language": "python",
     "metadata": {},
     "outputs": [],
     "prompt_number": "*"
    },
    {
     "cell_type": "heading",
     "level": 3,
     "metadata": {},
     "source": "Fitting\nAdapted from Saullo Castro, StackOverflow"
    },
    {
     "cell_type": "raw",
     "metadata": {},
     "source": "What is the best fit to our distribution? \n\nFor discrete distributions you can use ChiSquare (Observed and Expected) to see which one fits better. For continuous distribution you can take intervals and use ChiSquare (below)."
    },
    {
     "cell_type": "code",
     "collapsed": false,
     "input": "size = 30000\nx = np.linspace(0,25,size)\ny = [np.random.lognormal(1,0.8) for _ in range(size)]\nh = plt.hist(y, bins=np.linspace(0,25,100),normed=1,fc='gray', histtype='stepfilled', alpha=0.3)\nax = plt.subplot(1,1,1)\ndist_names = ['beta', 'rayleigh', 'norm','lognorm','expon']\n\n\nfor dist_name in dist_names:\n    t = []\n    dist = getattr(scipy.stats, dist_name)\n    param = dist.fit(y)\n    pdf_fitted = dist.pdf(x, *param[:-2], loc=param[-2], scale=param[-1])\n    ax.plot(x, pdf_fitted, label=dist_name,linewidth=3)\n    \n    init = h[1][0]\n    for value in h[1][1:]:\n        t.append(np.mean(pdf_fitted[(x>=init) & (x < value)]))\n        init = value\n                       \n    print(dist_name+\" p-val = \", scipy.stats.chisquare(f_obs = h[0], f_exp = t))\n    #ax.plot(h[1][1:],t)\n    \n    \n    \nax.set_xlabel('Value',fontsize=20)\nax.set_ylabel('Norm Freq',fontsize=20)\nplt.xlim((0,15))\ncustomaxis(ax, c_left='k', c_bottom='k', c_right='none', c_top='none', lw=2, size=20, pad=8)\nplt.legend(loc='upper right',fontsize=16,frameon=False)\nplt.show()",
     "language": "python",
     "metadata": {},
     "outputs": [],
     "prompt_number": "*"
    },
    {
     "cell_type": "heading",
     "level": 1,
     "metadata": {},
     "source": "Bootstrap methods"
    },
    {
     "cell_type": "heading",
     "level": 3,
     "metadata": {},
     "source": "Calculate CIs"
    },
    {
     "cell_type": "heading",
     "level": 4,
     "metadata": {},
     "source": "Peasants way. Parametric"
    },
    {
     "cell_type": "raw",
     "metadata": {},
     "source": "Calculate confidence intervals with SEM --> >20 replicates pufff\nLower Limit = Mean - (t-statistic for x df)(SEM)\nUpper Limit = Mean + (t-statistic for x df)(SEM)"
    },
    {
     "cell_type": "code",
     "collapsed": false,
     "input": "%%latex\n$$\\mu = \\left[\\mu + t_{1 - \\alpha/2,n-1},\\mu + t_{\\alpha/2,n-1} \\right]$$\n$$$$\n$$\\sigma = \\left[\\sqrt{\\frac{(n-1)\\cdot \\sigma^2}{\\chi^2_{1 - \\alpha/2,n-1}  }} \\sqrt{\\frac{(n-1)\\cdot \\sigma^2}{\\chi^2_{\\alpha/2,n-1}  }}\\right]$$\n",
     "language": "python",
     "metadata": {},
     "outputs": [],
     "prompt_number": "*"
    },
    {
     "cell_type": "code",
     "collapsed": false,
     "input": "x = np.random.randn(20)\nprint('CI for mean with SEM = ', np.mean(x) + scipy.stats.t.isf([0.025, 0.975], [19])[::-1] *scipy.stats.sem(x))\nprint('CI for mean with SEM = ', np.sqrt(np.var(x)*19/scipy.stats.chi2.isf([0.025, 0.975], [19])))",
     "language": "python",
     "metadata": {},
     "outputs": [
      {
       "output_type": "stream",
       "stream": "stdout",
       "text": "('CI for mean with SEM = ', array([-0.1143056 ,  0.63718028]))\n('CI for mean with SEM = ', array([ 0.59509616,  1.14292116]))\n"
      }
     ],
     "prompt_number": "*"
    },
    {
     "cell_type": "heading",
     "level": 4,
     "metadata": {},
     "source": "CLT make it easy. Non parametric, taking samples with replacement"
    },
    {
     "cell_type": "code",
     "collapsed": false,
     "input": "import scikits.bootstrap as bootstrap",
     "language": "python",
     "metadata": {},
     "outputs": [],
     "prompt_number": "*"
    },
    {
     "cell_type": "code",
     "collapsed": false,
     "input": "CIs = bootstrap.ci(x, statfunction=np.mean,n_samples=100000)  \nprint('CI for mean with bootstrapping = ', CIs)\n\nCIs = bootstrap.ci(x, statfunction=np.std,n_samples=100000)  \nprint('CI for std with bootstrapping = ', CIs)",
     "language": "python",
     "metadata": {},
     "outputs": [
      {
       "output_type": "stream",
       "stream": "stdout",
       "text": "('CI for mean with bootstrapping = ', array([-0.12339723,  0.56801067]))\n('CI for std with bootstrapping = ', array([ 0.5925539 ,  1.06333076]))"
      },
      {
       "output_type": "stream",
       "stream": "stdout",
       "text": "\n"
      }
     ],
     "prompt_number": "*"
    },
    {
     "cell_type": "heading",
     "level": 3,
     "metadata": {},
     "source": "Anything you want"
    },
    {
     "cell_type": "code",
     "collapsed": false,
     "input": "np.random.seed(105)\nsize = 100\nx = [np.random.lognormal(1,1) for _ in range(size)]\ny = (np.random.randn(size)*np.std(x)+np.mean(x))\nprint('Mean = %f STD = %f  Median = %f' %(np.mean(x), np.std(x), np.median(x)))\nprint('Mean = %f STD = %f  Median = %f' %(np.mean(y), np.std(y), np.median(y)))\nax = plt.subplot(1,1,1)\nax.hist(x,bins=np.linspace(-5,20,10),alpha=0.3,histtype='stepfilled')\nax.hist(y,bins=np.linspace(-5,20,10),alpha=0.3,histtype='stepfilled')\nax.set_xlabel('Value',fontsize=20)\nax.set_ylabel('Freq',fontsize=20)\ncustomaxis(ax, c_left='k', c_bottom='k', c_right='none', c_top='none', lw=2, size=20, pad=8)\nplt.show()",
     "language": "python",
     "metadata": {},
     "outputs": [
      {
       "output_type": "stream",
       "stream": "stdout",
       "text": "Mean = 5.135465 STD = 6.925996  Median = 2.494636\nMean = 6.227468 STD = 6.899373  Median = 6.389744\n"
      },
      {
       "metadata": {},
       "output_type": "display_data",
       "png": "[encoded data removed]",
       "text": "<matplotlib.figure.Figure at 0x7feeb1be6610>"
      }
     ],
     "prompt_number": "*"
    },
    {
     "cell_type": "code",
     "collapsed": false,
     "input": "y2 = [np.median(np.random.choice(y, size=size, replace=True)) for _ in range(100000)]\ny2 = np.asarray(y2)\nax = plt.subplot(1,1,1)\nax.hist(y2,bins=np.linspace(2,11,10),alpha=0.3,histtype='stepfilled')\nax.vlines(np.median(x),0,25000,linewidth=3)\nax.set_xlabel('Value',fontsize=20)\nax.set_ylabel('Freq',fontsize=20)\ncustomaxis(ax, c_left='k', c_bottom='k', c_right='none', c_top='none', lw=2, size=20, pad=8)\nprint('Bootstrap: ',float(len(y2[y2<=np.median(x)]))/100000)\nprint('Median test: ',median_test(x,y))\nprint('Mann: ',scipy.stats.mannwhitneyu(x,y)[1]*2)\nprint('T_test: NOT NORMAL!',scipy.stats.ttest_ind(x,y)[1])",
     "language": "python",
     "metadata": {},
     "outputs": [
      {
       "output_type": "stream",
       "stream": "stdout",
       "text": "('Bootstrap: ', 2e-05)\n('Median test: ', 0.16201071261586195)\n('Mann: ', 0.0089697635496793649)\n('T_test: NOT NORMAL!', 0.2677343915603817)\n"
      },
      {
       "metadata": {},
       "output_type": "display_data",
       "png": "[encoded data removed]",
       "text": "<matplotlib.figure.Figure at 0x7feeb2043350>"
      }
     ],
     "prompt_number": "*"
    },
    {
     "cell_type": "code",
     "collapsed": false,
     "input": "",
     "language": "python",
     "metadata": {},
     "outputs": [],
     "prompt_number": "*"
    }
   ],
   "metadata": {}
  }
 ]
}